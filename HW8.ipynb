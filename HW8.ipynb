{
 "cells": [
  {
   "cell_type": "code",
   "execution_count": 3,
   "metadata": {
    "collapsed": true
   },
   "outputs": [],
   "source": [
    "import pandas as pd\n",
    "import math\n",
    "%matplotlib inline"
   ]
  },
  {
   "cell_type": "code",
   "execution_count": 110,
   "metadata": {
    "collapsed": false
   },
   "outputs": [
    {
     "data": {
      "text/html": [
       "<div>\n",
       "<table border=\"1\" class=\"dataframe\">\n",
       "  <thead>\n",
       "    <tr style=\"text-align: right;\">\n",
       "      <th></th>\n",
       "      <th>0</th>\n",
       "      <th>1</th>\n",
       "      <th>2</th>\n",
       "      <th>3</th>\n",
       "      <th>4</th>\n",
       "    </tr>\n",
       "  </thead>\n",
       "  <tbody>\n",
       "    <tr>\n",
       "      <th>0</th>\n",
       "      <td>SAMPLE 1</td>\n",
       "      <td>SAMPLE 2</td>\n",
       "      <td>SAMPLE 3</td>\n",
       "      <td>SAMPLE 4</td>\n",
       "      <td>SAMPLE 5</td>\n",
       "    </tr>\n",
       "    <tr>\n",
       "      <th>1</th>\n",
       "      <td>50.004</td>\n",
       "      <td>50.026</td>\n",
       "      <td>50.056</td>\n",
       "      <td>50.014</td>\n",
       "      <td>50.033</td>\n",
       "    </tr>\n",
       "  </tbody>\n",
       "</table>\n",
       "</div>"
      ],
      "text/plain": [
       "          0         1         2         3         4\n",
       "0  SAMPLE 1  SAMPLE 2  SAMPLE 3  SAMPLE 4  SAMPLE 5\n",
       "1    50.004    50.026    50.056    50.014    50.033"
      ]
     },
     "execution_count": 110,
     "metadata": {},
     "output_type": "execute_result"
    }
   ],
   "source": [
    "df = pd.read_csv('HW8_DATA.csv',header=None)\n",
    "df.head(2)"
   ]
  },
  {
   "cell_type": "code",
   "execution_count": 54,
   "metadata": {
    "collapsed": false
   },
   "outputs": [],
   "source": [
    "df.columns = df.iloc[0]\n",
    "df.drop(0,inplace =True);"
   ]
  },
  {
   "cell_type": "code",
   "execution_count": 68,
   "metadata": {
    "collapsed": true
   },
   "outputs": [],
   "source": [
    "df1 = df.apply(pd.to_numeric, errors='coerce')"
   ]
  },
  {
   "cell_type": "markdown",
   "metadata": {},
   "source": [
    "to find the confidence intervels for each set of samples, the mean of each set is required as well as the standard deviation. Then the confidence intervals can be found with:\n",
    "\n",
    "($\\bar{x} - z_{\\alpha/2} \\frac{\\sigma}{\\sqrt{n}}, \\bar{x} + z_{\\alpha/2} \\frac{\\sigma}{\\sqrt{n}}$)"
   ]
  },
  {
   "cell_type": "markdown",
   "metadata": {},
   "source": [
    "\n"
   ]
  },
  {
   "cell_type": "code",
   "execution_count": 201,
   "metadata": {
    "collapsed": false
   },
   "outputs": [
    {
     "name": "stdout",
     "output_type": "stream",
     "text": [
      "1a) 90 Percent confindence intervals for each sample.\n",
      "SAMPLE 1 :  ( 50.007 , 50.021 )\n",
      "SAMPLE 2 :  ( 50.017 , 50.031 )\n",
      "SAMPLE 3 :  ( 50.004 , 50.021 )\n",
      "SAMPLE 4 :  ( 50.002 , 50.016 )\n",
      "SAMPLE 5 :  ( 50.002 , 50.017 )\n"
     ]
    }
   ],
   "source": [
    "n = len(df1)\n",
    "#90 percent confidence interval\n",
    "print (\"1a) 90 Percent confindence intervals for each sample.\")\n",
    "for name in df1.columns:\n",
    "    lower = df1[name].mean() - 1.65*(df1[name].std())/math.sqrt(n)\n",
    "    upper = df1[name].mean() + 1.65*(df1[name].std())/math.sqrt(n)\n",
    "    print(name,\": \", \"(\",round(lower,3), \",\",round(upper,3),\")\")"
   ]
  },
  {
   "cell_type": "code",
   "execution_count": 202,
   "metadata": {
    "collapsed": false
   },
   "outputs": [
    {
     "name": "stdout",
     "output_type": "stream",
     "text": [
      "1b) 95 Percent confindence intervals for each sample.\n",
      "SAMPLE 1 :  ( 50.006 , 50.022 )\n",
      "SAMPLE 2 :  ( 50.016 , 50.032 )\n",
      "SAMPLE 3 :  ( 50.002 , 50.022 )\n",
      "SAMPLE 4 :  ( 50.001 , 50.017 )\n",
      "SAMPLE 5 :  ( 50.0 , 50.018 )\n"
     ]
    }
   ],
   "source": [
    "n = len(df1)\n",
    "#95 percent confidence interval\n",
    "print (\"1b) 95 Percent confindence intervals for each sample.\")\n",
    "for name in df1.columns:\n",
    "    left = df1[name].mean() - 1.96*(df1[name].std())/math.sqrt(n)\n",
    "    right = df1[name].mean() + 1.96*(df1[name].std())/math.sqrt(n)\n",
    "    print(name,\": \", \"(\",round(left,3), \",\",round(right,3),\")\")"
   ]
  },
  {
   "cell_type": "code",
   "execution_count": 178,
   "metadata": {
    "collapsed": false
   },
   "outputs": [],
   "source": []
  },
  {
   "cell_type": "code",
   "execution_count": null,
   "metadata": {
    "collapsed": true
   },
   "outputs": [],
   "source": []
  },
  {
   "cell_type": "markdown",
   "metadata": {
    "collapsed": false
   },
   "source": [
    "Question 2: To find the confidence intervals in this problem we must find the proportion of each sample that has \"defective\" boards, i.e. boards longer or shorter than the given standards. This is represented as X. n is the size of the sample set analyzed. p_hat is then the population proportion whic is p_hat = X/n. We can then find the confidence intervals from: \n",
    "\n",
    "($\\hat{p} - z_{\\alpha/2} \\sqrt{\\frac{\\hat{p}(1-\\hat{p})}{n}}$,$\\hat{p} + z_{\\alpha/2} \\sqrt{\\frac{\\hat{p}(1-\\hat{p})}{n}}$"
   ]
  },
  {
   "cell_type": "code",
   "execution_count": 183,
   "metadata": {
    "collapsed": false
   },
   "outputs": [],
   "source": [
    "X = len(df2[(df2>50.04) | (df2<49.96)])\n",
    "n = len(df2)"
   ]
  },
  {
   "cell_type": "code",
   "execution_count": 199,
   "metadata": {
    "collapsed": false
   },
   "outputs": [
    {
     "name": "stdout",
     "output_type": "stream",
     "text": [
      "SAMPLE 1 :  ( 0.013 , 0.227 )\n",
      "SAMPLE 2 :  ( 0.132 , 0.428 )\n",
      "SAMPLE 3 :  ( 0.068 , 0.332 )\n",
      "SAMPLE 4 :  ( 0 , 0.17 )\n",
      "SAMPLE 5 :  ( 0 , 0.105 )\n"
     ]
    }
   ],
   "source": [
    "z = 1.65\n",
    "for name in df1.columns:\n",
    "    df2 = df1[name]\n",
    "    X = len(df2[(df2>50.04) | (df2<49.96)])\n",
    "    p_hat = X/n\n",
    "    lower = p_hat - z*math.sqrt(p_hat*(1-p_hat)/n) \n",
    "    upper = p_hat + z*math.sqrt(p_hat*(1-p_hat)/n)\n",
    "    if lower < 0:\n",
    "        lower = 0\n",
    "    print(name,\": \", \"(\",round(lower,3), \",\",round(upper,3),\")\")"
   ]
  },
  {
   "cell_type": "code",
   "execution_count": null,
   "metadata": {
    "collapsed": false
   },
   "outputs": [],
   "source": []
  },
  {
   "cell_type": "code",
   "execution_count": null,
   "metadata": {
    "collapsed": false
   },
   "outputs": [],
   "source": []
  },
  {
   "cell_type": "code",
   "execution_count": null,
   "metadata": {
    "collapsed": true
   },
   "outputs": [],
   "source": []
  }
 ],
 "metadata": {
  "anaconda-cloud": {},
  "kernelspec": {
   "display_name": "Python [conda root]",
   "language": "python",
   "name": "conda-root-py"
  },
  "language_info": {
   "codemirror_mode": {
    "name": "ipython",
    "version": 3
   },
   "file_extension": ".py",
   "mimetype": "text/x-python",
   "name": "python",
   "nbconvert_exporter": "python",
   "pygments_lexer": "ipython3",
   "version": "3.5.2"
  }
 },
 "nbformat": 4,
 "nbformat_minor": 1
}
